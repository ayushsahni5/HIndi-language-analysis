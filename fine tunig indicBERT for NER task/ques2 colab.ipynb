{
  "cells": [
    {
      "cell_type": "code",
      "execution_count": 1,
      "metadata": {
        "id": "4ZuNiiItuBbP",
        "colab": {
          "base_uri": "https://localhost:8080/"
        },
        "outputId": "8a84995a-1c0b-41f4-f259-ecb239a70db0"
      },
      "outputs": [
        {
          "output_type": "stream",
          "name": "stdout",
          "text": [
            "Requirement already satisfied: transformers in /usr/local/lib/python3.7/dist-packages (4.18.0)\n",
            "Requirement already satisfied: packaging>=20.0 in /usr/local/lib/python3.7/dist-packages (from transformers) (21.3)\n",
            "Requirement already satisfied: tokenizers!=0.11.3,<0.13,>=0.11.1 in /usr/local/lib/python3.7/dist-packages (from transformers) (0.12.1)\n",
            "Requirement already satisfied: pyyaml>=5.1 in /usr/local/lib/python3.7/dist-packages (from transformers) (6.0)\n",
            "Requirement already satisfied: importlib-metadata in /usr/local/lib/python3.7/dist-packages (from transformers) (4.11.3)\n",
            "Requirement already satisfied: filelock in /usr/local/lib/python3.7/dist-packages (from transformers) (3.6.0)\n",
            "Requirement already satisfied: requests in /usr/local/lib/python3.7/dist-packages (from transformers) (2.23.0)\n",
            "Requirement already satisfied: numpy>=1.17 in /usr/local/lib/python3.7/dist-packages (from transformers) (1.21.5)\n",
            "Requirement already satisfied: regex!=2019.12.17 in /usr/local/lib/python3.7/dist-packages (from transformers) (2019.12.20)\n",
            "Requirement already satisfied: tqdm>=4.27 in /usr/local/lib/python3.7/dist-packages (from transformers) (4.64.0)\n",
            "Requirement already satisfied: sacremoses in /usr/local/lib/python3.7/dist-packages (from transformers) (0.0.49)\n",
            "Requirement already satisfied: huggingface-hub<1.0,>=0.1.0 in /usr/local/lib/python3.7/dist-packages (from transformers) (0.5.1)\n",
            "Requirement already satisfied: typing-extensions>=3.7.4.3 in /usr/local/lib/python3.7/dist-packages (from huggingface-hub<1.0,>=0.1.0->transformers) (4.1.1)\n",
            "Requirement already satisfied: pyparsing!=3.0.5,>=2.0.2 in /usr/local/lib/python3.7/dist-packages (from packaging>=20.0->transformers) (3.0.8)\n",
            "Requirement already satisfied: zipp>=0.5 in /usr/local/lib/python3.7/dist-packages (from importlib-metadata->transformers) (3.8.0)\n",
            "Requirement already satisfied: chardet<4,>=3.0.2 in /usr/local/lib/python3.7/dist-packages (from requests->transformers) (3.0.4)\n",
            "Requirement already satisfied: certifi>=2017.4.17 in /usr/local/lib/python3.7/dist-packages (from requests->transformers) (2021.10.8)\n",
            "Requirement already satisfied: idna<3,>=2.5 in /usr/local/lib/python3.7/dist-packages (from requests->transformers) (2.10)\n",
            "Requirement already satisfied: urllib3!=1.25.0,!=1.25.1,<1.26,>=1.21.1 in /usr/local/lib/python3.7/dist-packages (from requests->transformers) (1.24.3)\n",
            "Requirement already satisfied: six in /usr/local/lib/python3.7/dist-packages (from sacremoses->transformers) (1.15.0)\n",
            "Requirement already satisfied: click in /usr/local/lib/python3.7/dist-packages (from sacremoses->transformers) (7.1.2)\n",
            "Requirement already satisfied: joblib in /usr/local/lib/python3.7/dist-packages (from sacremoses->transformers) (1.1.0)\n",
            "Requirement already satisfied: sentencepiece in /usr/local/lib/python3.7/dist-packages (0.1.96)\n"
          ]
        }
      ],
      "source": [
        "!pip install transformers\n",
        "!pip install sentencepiece\n"
      ]
    },
    {
      "cell_type": "code",
      "execution_count": 36,
      "metadata": {
        "colab": {
          "base_uri": "https://localhost:8080/"
        },
        "id": "duptYk4W0hg8",
        "outputId": "d914858f-c1f3-4297-e517-23df7f4a25e1"
      },
      "outputs": [
        {
          "output_type": "stream",
          "name": "stdout",
          "text": [
            "# id fb77da5d-c4e6-4545-ac07-600a7ff04920\tdomain=train\n",
            "\n",
            "जियोर्जियोन _ _ O\n",
            "\n",
            "०१९। _ _ O\n",
            "\n",
            "जेपीजी _ _ O\n",
            "\n",
            "| _ _ O\n",
            "\n",
            "जियोर्जियोन _ _ O\n",
            "\n",
            "आंधी _ _ B-CW\n",
            "\n",
            ", _ _ O\n",
            "\n",
            "८२ _ _ O\n",
            "\n",
            "× _ _ O\n",
            "\n",
            "७३ _ _ O\n",
            "\n",
            "सेमी _ _ O\n",
            "\n",
            "\n",
            "\n",
            "# id cdfbbb76-87a6-49d3-806e-9587d7c896f0\tdomain=train\n",
            "\n",
            "इस _ _ O\n",
            "\n",
            "क्षेत्र _ _ O\n",
            "\n",
            "का _ _ O\n",
            "\n",
            "सबसे _ _ O\n",
            "\n",
            "# id fb77da5d-c4e6-4545-ac07-600a7ff04920\tdomain=train\n",
            "\n",
            "जियोर्जियोन _ _ O\n",
            "\n",
            "०१९। _ _ O\n",
            "\n",
            "जेपीजी _ _ O\n",
            "\n",
            "| _ _ O\n",
            "\n",
            "जियोर्जियोन _ _ O\n",
            "\n",
            "आंधी _ _ B-CW\n",
            "\n",
            ", _ _ O\n",
            "\n",
            "८२ _ _ O\n",
            "\n",
            "× _ _ O\n",
            "\n",
            "७३ _ _ O\n",
            "\n",
            "सेमी _ _ O\n",
            "\n",
            "\n",
            "\n",
            "# id cdfbbb76-87a6-49d3-806e-9587d7c896f0\tdomain=train\n",
            "\n",
            "इस _ _ O\n",
            "\n",
            "क्षेत्र _ _ O\n",
            "\n",
            "का _ _ O\n",
            "\n",
            "सबसे _ _ O\n",
            "\n"
          ]
        }
      ],
      "source": [
        "#example to demonstrate how dataset is stored\n",
        "with open('hi_train.conll',encoding='utf8') as f:\n",
        "    j=1\n",
        "    for i in f:\n",
        "        j+=1\n",
        "        if j==20:\n",
        "            break\n",
        "        print(i)"
      ]
    },
    {
      "cell_type": "code",
      "execution_count": 37,
      "metadata": {
        "id": "Y2QgEC7S0hg9"
      },
      "outputs": [],
      "source": [
        "#printing the above shows that there is a line followed by hash symbol. and there is a space before that line. All the words before\n",
        "#that line belong to one sentence\n",
        "# I = inside\n",
        "# O = outside\n",
        "# B= beginning of word\n",
        "\n"
      ]
    },
    {
      "cell_type": "code",
      "execution_count": 38,
      "metadata": {
        "id": "wbslcVym0hg9"
      },
      "outputs": [],
      "source": [
        "#we need to make a dataframe consisting of words in column and corresponding sentence number to which the word belongs to and\n",
        "#also the corresponding tag of word\n",
        "import re\n",
        "sentence_id_list=list()\n",
        "all_words_list=list()\n",
        "tag_list=list()\n",
        "sentence_id=0\n",
        "with open('hi_train.conll',encoding='utf8') as f:\n",
        "    for line in f:\n",
        "        \n",
        "        if line[0]=='#' or line[0]=='\\n':\n",
        "            if line[0]!='\\n':\n",
        "                sentence_id+=1\n",
        "            continue\n",
        "        else:\n",
        "            \n",
        "            element=line.split(' _ _ ')\n",
        "            all_words_list.append(element[0])\n",
        "            tag_list.append(re.sub('\\n','',element[1]))\n",
        "            sentence_id_list.append(sentence_id)\n",
        "        "
      ]
    },
    {
      "cell_type": "code",
      "execution_count": 39,
      "metadata": {
        "id": "vzP6PlYA0hg-"
      },
      "outputs": [],
      "source": [
        "import pandas as pd\n",
        "my_df=pd.DataFrame(columns=['sentence_id','word','tag'])\n",
        "my_df['sentence_id']=sentence_id_list\n",
        "my_df['word']=all_words_list\n",
        "my_df['tag']=tag_list\n",
        "\n"
      ]
    },
    {
      "cell_type": "code",
      "source": [
        "labels_to_ids = {k: v for v, k in enumerate(my_df.tag.unique())}\n",
        "ids_to_labels = {v: k for v, k in enumerate(my_df.tag.unique())}"
      ],
      "metadata": {
        "id": "YZ41Y21b501c"
      },
      "execution_count": 40,
      "outputs": []
    },
    {
      "cell_type": "code",
      "execution_count": 41,
      "metadata": {
        "id": "evXQYT9t0hg-"
      },
      "outputs": [],
      "source": [
        "#grouping together words of same sentence\n",
        "my_df['sentence']=my_df.groupby(['sentence_id'])['word'].transform(lambda func: ' '.join(func))\n",
        "my_df['word_labels']=my_df.groupby(['sentence_id'])['tag'].transform(lambda func: ','.join(func))"
      ]
    },
    {
      "cell_type": "code",
      "execution_count": 42,
      "metadata": {
        "id": "hz70Uc0u0hg-"
      },
      "outputs": [],
      "source": [
        "my_df = my_df.drop_duplicates(subset=['sentence_id'])"
      ]
    },
    {
      "cell_type": "code",
      "execution_count": 43,
      "metadata": {
        "id": "EE63sYYp0hg_"
      },
      "outputs": [],
      "source": [
        "\n",
        "my_df=my_df[['sentence','word_labels']].drop_duplicates().reset_index(drop=True)"
      ]
    },
    {
      "cell_type": "code",
      "source": [
        "my_df"
      ],
      "metadata": {
        "colab": {
          "base_uri": "https://localhost:8080/",
          "height": 830
        },
        "id": "MoelvyAC4aIA",
        "outputId": "9dd25bcc-197b-4bf1-a475-e118ae116b54"
      },
      "execution_count": 44,
      "outputs": [
        {
          "output_type": "execute_result",
          "data": {
            "text/plain": [
              "                                                sentence  \\\n",
              "0      जियोर्जियोन ०१९। जेपीजी | जियोर्जियोन आंधी , ८...   \n",
              "1      इस क्षेत्र का सबसे प्रसिद्ध व्यंजन बिरिया है, ...   \n",
              "2      राजनीतिक टिप्पणीकार एंड्रयू सुलिवन ने माना कि ...   \n",
              "3      लाइटिंग सर्किट से उपकरणों को जोड़ने के लिए एक ...   \n",
              "4      तब से उन्हें तीन बार स्थानांतरित किया गया है औ...   \n",
              "...                                                  ...   \n",
              "15151                             चाओ फ्रया नदी मेक्सिको   \n",
              "15152                              चाय बोर्ड, भारत संगठन   \n",
              "15153                                    कंप्यूटर अंकुरण   \n",
              "15154                    एयर इंडिया रीजनल . की समीक्षाएं   \n",
              "15155                   क्वालकॉम स्नैपड्रैगन . के उदाहरण   \n",
              "\n",
              "                                             word_labels  \n",
              "0                               O,O,O,O,O,B-CW,O,O,O,O,O  \n",
              "1      O,O,O,O,O,O,B-PROD,O,O,O,O,O,O,O,O,O,O,O,O,O,O...  \n",
              "2                O,O,B-PER,I-PER,O,O,O,O,O,O,O,O,O,O,O,O  \n",
              "3      O,O,O,O,O,O,O,O,O,O,O,O,O,O,O,B-PROD,I-PROD,O,...  \n",
              "4              O,O,O,O,O,O,O,O,O,O,O,O,O,O,O,B-LOC,O,O,O  \n",
              "...                                                  ...  \n",
              "15151                                B-LOC,I-LOC,I-LOC,O  \n",
              "15152                                B-GRP,I-GRP,I-GRP,O  \n",
              "15153                                           O,B-PROD  \n",
              "15154                         B-CORP,I-CORP,I-CORP,O,O,O  \n",
              "15155                                B-PROD,I-PROD,O,O,O  \n",
              "\n",
              "[15156 rows x 2 columns]"
            ],
            "text/html": [
              "\n",
              "  <div id=\"df-51c62628-b80f-4e0d-afd4-477311ff5445\">\n",
              "    <div class=\"colab-df-container\">\n",
              "      <div>\n",
              "<style scoped>\n",
              "    .dataframe tbody tr th:only-of-type {\n",
              "        vertical-align: middle;\n",
              "    }\n",
              "\n",
              "    .dataframe tbody tr th {\n",
              "        vertical-align: top;\n",
              "    }\n",
              "\n",
              "    .dataframe thead th {\n",
              "        text-align: right;\n",
              "    }\n",
              "</style>\n",
              "<table border=\"1\" class=\"dataframe\">\n",
              "  <thead>\n",
              "    <tr style=\"text-align: right;\">\n",
              "      <th></th>\n",
              "      <th>sentence</th>\n",
              "      <th>word_labels</th>\n",
              "    </tr>\n",
              "  </thead>\n",
              "  <tbody>\n",
              "    <tr>\n",
              "      <th>0</th>\n",
              "      <td>जियोर्जियोन ०१९। जेपीजी | जियोर्जियोन आंधी , ८...</td>\n",
              "      <td>O,O,O,O,O,B-CW,O,O,O,O,O</td>\n",
              "    </tr>\n",
              "    <tr>\n",
              "      <th>1</th>\n",
              "      <td>इस क्षेत्र का सबसे प्रसिद्ध व्यंजन बिरिया है, ...</td>\n",
              "      <td>O,O,O,O,O,O,B-PROD,O,O,O,O,O,O,O,O,O,O,O,O,O,O...</td>\n",
              "    </tr>\n",
              "    <tr>\n",
              "      <th>2</th>\n",
              "      <td>राजनीतिक टिप्पणीकार एंड्रयू सुलिवन ने माना कि ...</td>\n",
              "      <td>O,O,B-PER,I-PER,O,O,O,O,O,O,O,O,O,O,O,O</td>\n",
              "    </tr>\n",
              "    <tr>\n",
              "      <th>3</th>\n",
              "      <td>लाइटिंग सर्किट से उपकरणों को जोड़ने के लिए एक ...</td>\n",
              "      <td>O,O,O,O,O,O,O,O,O,O,O,O,O,O,O,B-PROD,I-PROD,O,...</td>\n",
              "    </tr>\n",
              "    <tr>\n",
              "      <th>4</th>\n",
              "      <td>तब से उन्हें तीन बार स्थानांतरित किया गया है औ...</td>\n",
              "      <td>O,O,O,O,O,O,O,O,O,O,O,O,O,O,O,B-LOC,O,O,O</td>\n",
              "    </tr>\n",
              "    <tr>\n",
              "      <th>...</th>\n",
              "      <td>...</td>\n",
              "      <td>...</td>\n",
              "    </tr>\n",
              "    <tr>\n",
              "      <th>15151</th>\n",
              "      <td>चाओ फ्रया नदी मेक्सिको</td>\n",
              "      <td>B-LOC,I-LOC,I-LOC,O</td>\n",
              "    </tr>\n",
              "    <tr>\n",
              "      <th>15152</th>\n",
              "      <td>चाय बोर्ड, भारत संगठन</td>\n",
              "      <td>B-GRP,I-GRP,I-GRP,O</td>\n",
              "    </tr>\n",
              "    <tr>\n",
              "      <th>15153</th>\n",
              "      <td>कंप्यूटर अंकुरण</td>\n",
              "      <td>O,B-PROD</td>\n",
              "    </tr>\n",
              "    <tr>\n",
              "      <th>15154</th>\n",
              "      <td>एयर इंडिया रीजनल . की समीक्षाएं</td>\n",
              "      <td>B-CORP,I-CORP,I-CORP,O,O,O</td>\n",
              "    </tr>\n",
              "    <tr>\n",
              "      <th>15155</th>\n",
              "      <td>क्वालकॉम स्नैपड्रैगन . के उदाहरण</td>\n",
              "      <td>B-PROD,I-PROD,O,O,O</td>\n",
              "    </tr>\n",
              "  </tbody>\n",
              "</table>\n",
              "<p>15156 rows × 2 columns</p>\n",
              "</div>\n",
              "      <button class=\"colab-df-convert\" onclick=\"convertToInteractive('df-51c62628-b80f-4e0d-afd4-477311ff5445')\"\n",
              "              title=\"Convert this dataframe to an interactive table.\"\n",
              "              style=\"display:none;\">\n",
              "        \n",
              "  <svg xmlns=\"http://www.w3.org/2000/svg\" height=\"24px\"viewBox=\"0 0 24 24\"\n",
              "       width=\"24px\">\n",
              "    <path d=\"M0 0h24v24H0V0z\" fill=\"none\"/>\n",
              "    <path d=\"M18.56 5.44l.94 2.06.94-2.06 2.06-.94-2.06-.94-.94-2.06-.94 2.06-2.06.94zm-11 1L8.5 8.5l.94-2.06 2.06-.94-2.06-.94L8.5 2.5l-.94 2.06-2.06.94zm10 10l.94 2.06.94-2.06 2.06-.94-2.06-.94-.94-2.06-.94 2.06-2.06.94z\"/><path d=\"M17.41 7.96l-1.37-1.37c-.4-.4-.92-.59-1.43-.59-.52 0-1.04.2-1.43.59L10.3 9.45l-7.72 7.72c-.78.78-.78 2.05 0 2.83L4 21.41c.39.39.9.59 1.41.59.51 0 1.02-.2 1.41-.59l7.78-7.78 2.81-2.81c.8-.78.8-2.07 0-2.86zM5.41 20L4 18.59l7.72-7.72 1.47 1.35L5.41 20z\"/>\n",
              "  </svg>\n",
              "      </button>\n",
              "      \n",
              "  <style>\n",
              "    .colab-df-container {\n",
              "      display:flex;\n",
              "      flex-wrap:wrap;\n",
              "      gap: 12px;\n",
              "    }\n",
              "\n",
              "    .colab-df-convert {\n",
              "      background-color: #E8F0FE;\n",
              "      border: none;\n",
              "      border-radius: 50%;\n",
              "      cursor: pointer;\n",
              "      display: none;\n",
              "      fill: #1967D2;\n",
              "      height: 32px;\n",
              "      padding: 0 0 0 0;\n",
              "      width: 32px;\n",
              "    }\n",
              "\n",
              "    .colab-df-convert:hover {\n",
              "      background-color: #E2EBFA;\n",
              "      box-shadow: 0px 1px 2px rgba(60, 64, 67, 0.3), 0px 1px 3px 1px rgba(60, 64, 67, 0.15);\n",
              "      fill: #174EA6;\n",
              "    }\n",
              "\n",
              "    [theme=dark] .colab-df-convert {\n",
              "      background-color: #3B4455;\n",
              "      fill: #D2E3FC;\n",
              "    }\n",
              "\n",
              "    [theme=dark] .colab-df-convert:hover {\n",
              "      background-color: #434B5C;\n",
              "      box-shadow: 0px 1px 3px 1px rgba(0, 0, 0, 0.15);\n",
              "      filter: drop-shadow(0px 1px 2px rgba(0, 0, 0, 0.3));\n",
              "      fill: #FFFFFF;\n",
              "    }\n",
              "  </style>\n",
              "\n",
              "      <script>\n",
              "        const buttonEl =\n",
              "          document.querySelector('#df-51c62628-b80f-4e0d-afd4-477311ff5445 button.colab-df-convert');\n",
              "        buttonEl.style.display =\n",
              "          google.colab.kernel.accessAllowed ? 'block' : 'none';\n",
              "\n",
              "        async function convertToInteractive(key) {\n",
              "          const element = document.querySelector('#df-51c62628-b80f-4e0d-afd4-477311ff5445');\n",
              "          const dataTable =\n",
              "            await google.colab.kernel.invokeFunction('convertToInteractive',\n",
              "                                                     [key], {});\n",
              "          if (!dataTable) return;\n",
              "\n",
              "          const docLinkHtml = 'Like what you see? Visit the ' +\n",
              "            '<a target=\"_blank\" href=https://colab.research.google.com/notebooks/data_table.ipynb>data table notebook</a>'\n",
              "            + ' to learn more about interactive tables.';\n",
              "          element.innerHTML = '';\n",
              "          dataTable['output_type'] = 'display_data';\n",
              "          await google.colab.output.renderOutput(dataTable, element);\n",
              "          const docLink = document.createElement('div');\n",
              "          docLink.innerHTML = docLinkHtml;\n",
              "          element.appendChild(docLink);\n",
              "        }\n",
              "      </script>\n",
              "    </div>\n",
              "  </div>\n",
              "  "
            ]
          },
          "metadata": {},
          "execution_count": 10
        },
        {
          "output_type": "execute_result",
          "data": {
            "text/plain": [
              "                                                sentence  \\\n",
              "0      जियोर्जियोन ०१९। जेपीजी | जियोर्जियोन आंधी , ८...   \n",
              "1      इस क्षेत्र का सबसे प्रसिद्ध व्यंजन बिरिया है, ...   \n",
              "2      राजनीतिक टिप्पणीकार एंड्रयू सुलिवन ने माना कि ...   \n",
              "3      लाइटिंग सर्किट से उपकरणों को जोड़ने के लिए एक ...   \n",
              "4      तब से उन्हें तीन बार स्थानांतरित किया गया है औ...   \n",
              "...                                                  ...   \n",
              "15151                             चाओ फ्रया नदी मेक्सिको   \n",
              "15152                              चाय बोर्ड, भारत संगठन   \n",
              "15153                                    कंप्यूटर अंकुरण   \n",
              "15154                    एयर इंडिया रीजनल . की समीक्षाएं   \n",
              "15155                   क्वालकॉम स्नैपड्रैगन . के उदाहरण   \n",
              "\n",
              "                                             word_labels  \n",
              "0                               O,O,O,O,O,B-CW,O,O,O,O,O  \n",
              "1      O,O,O,O,O,O,B-PROD,O,O,O,O,O,O,O,O,O,O,O,O,O,O...  \n",
              "2                O,O,B-PER,I-PER,O,O,O,O,O,O,O,O,O,O,O,O  \n",
              "3      O,O,O,O,O,O,O,O,O,O,O,O,O,O,O,B-PROD,I-PROD,O,...  \n",
              "4              O,O,O,O,O,O,O,O,O,O,O,O,O,O,O,B-LOC,O,O,O  \n",
              "...                                                  ...  \n",
              "15151                                B-LOC,I-LOC,I-LOC,O  \n",
              "15152                                B-GRP,I-GRP,I-GRP,O  \n",
              "15153                                           O,B-PROD  \n",
              "15154                         B-CORP,I-CORP,I-CORP,O,O,O  \n",
              "15155                                B-PROD,I-PROD,O,O,O  \n",
              "\n",
              "[15156 rows x 2 columns]"
            ],
            "text/html": [
              "\n",
              "  <div id=\"df-ed22cfad-192a-47a0-bcee-3b50e9549db1\">\n",
              "    <div class=\"colab-df-container\">\n",
              "      <div>\n",
              "<style scoped>\n",
              "    .dataframe tbody tr th:only-of-type {\n",
              "        vertical-align: middle;\n",
              "    }\n",
              "\n",
              "    .dataframe tbody tr th {\n",
              "        vertical-align: top;\n",
              "    }\n",
              "\n",
              "    .dataframe thead th {\n",
              "        text-align: right;\n",
              "    }\n",
              "</style>\n",
              "<table border=\"1\" class=\"dataframe\">\n",
              "  <thead>\n",
              "    <tr style=\"text-align: right;\">\n",
              "      <th></th>\n",
              "      <th>sentence</th>\n",
              "      <th>word_labels</th>\n",
              "    </tr>\n",
              "  </thead>\n",
              "  <tbody>\n",
              "    <tr>\n",
              "      <th>0</th>\n",
              "      <td>जियोर्जियोन ०१९। जेपीजी | जियोर्जियोन आंधी , ८...</td>\n",
              "      <td>O,O,O,O,O,B-CW,O,O,O,O,O</td>\n",
              "    </tr>\n",
              "    <tr>\n",
              "      <th>1</th>\n",
              "      <td>इस क्षेत्र का सबसे प्रसिद्ध व्यंजन बिरिया है, ...</td>\n",
              "      <td>O,O,O,O,O,O,B-PROD,O,O,O,O,O,O,O,O,O,O,O,O,O,O...</td>\n",
              "    </tr>\n",
              "    <tr>\n",
              "      <th>2</th>\n",
              "      <td>राजनीतिक टिप्पणीकार एंड्रयू सुलिवन ने माना कि ...</td>\n",
              "      <td>O,O,B-PER,I-PER,O,O,O,O,O,O,O,O,O,O,O,O</td>\n",
              "    </tr>\n",
              "    <tr>\n",
              "      <th>3</th>\n",
              "      <td>लाइटिंग सर्किट से उपकरणों को जोड़ने के लिए एक ...</td>\n",
              "      <td>O,O,O,O,O,O,O,O,O,O,O,O,O,O,O,B-PROD,I-PROD,O,...</td>\n",
              "    </tr>\n",
              "    <tr>\n",
              "      <th>4</th>\n",
              "      <td>तब से उन्हें तीन बार स्थानांतरित किया गया है औ...</td>\n",
              "      <td>O,O,O,O,O,O,O,O,O,O,O,O,O,O,O,B-LOC,O,O,O</td>\n",
              "    </tr>\n",
              "    <tr>\n",
              "      <th>...</th>\n",
              "      <td>...</td>\n",
              "      <td>...</td>\n",
              "    </tr>\n",
              "    <tr>\n",
              "      <th>15151</th>\n",
              "      <td>चाओ फ्रया नदी मेक्सिको</td>\n",
              "      <td>B-LOC,I-LOC,I-LOC,O</td>\n",
              "    </tr>\n",
              "    <tr>\n",
              "      <th>15152</th>\n",
              "      <td>चाय बोर्ड, भारत संगठन</td>\n",
              "      <td>B-GRP,I-GRP,I-GRP,O</td>\n",
              "    </tr>\n",
              "    <tr>\n",
              "      <th>15153</th>\n",
              "      <td>कंप्यूटर अंकुरण</td>\n",
              "      <td>O,B-PROD</td>\n",
              "    </tr>\n",
              "    <tr>\n",
              "      <th>15154</th>\n",
              "      <td>एयर इंडिया रीजनल . की समीक्षाएं</td>\n",
              "      <td>B-CORP,I-CORP,I-CORP,O,O,O</td>\n",
              "    </tr>\n",
              "    <tr>\n",
              "      <th>15155</th>\n",
              "      <td>क्वालकॉम स्नैपड्रैगन . के उदाहरण</td>\n",
              "      <td>B-PROD,I-PROD,O,O,O</td>\n",
              "    </tr>\n",
              "  </tbody>\n",
              "</table>\n",
              "<p>15156 rows × 2 columns</p>\n",
              "</div>\n",
              "      <button class=\"colab-df-convert\" onclick=\"convertToInteractive('df-ed22cfad-192a-47a0-bcee-3b50e9549db1')\"\n",
              "              title=\"Convert this dataframe to an interactive table.\"\n",
              "              style=\"display:none;\">\n",
              "        \n",
              "  <svg xmlns=\"http://www.w3.org/2000/svg\" height=\"24px\"viewBox=\"0 0 24 24\"\n",
              "       width=\"24px\">\n",
              "    <path d=\"M0 0h24v24H0V0z\" fill=\"none\"/>\n",
              "    <path d=\"M18.56 5.44l.94 2.06.94-2.06 2.06-.94-2.06-.94-.94-2.06-.94 2.06-2.06.94zm-11 1L8.5 8.5l.94-2.06 2.06-.94-2.06-.94L8.5 2.5l-.94 2.06-2.06.94zm10 10l.94 2.06.94-2.06 2.06-.94-2.06-.94-.94-2.06-.94 2.06-2.06.94z\"/><path d=\"M17.41 7.96l-1.37-1.37c-.4-.4-.92-.59-1.43-.59-.52 0-1.04.2-1.43.59L10.3 9.45l-7.72 7.72c-.78.78-.78 2.05 0 2.83L4 21.41c.39.39.9.59 1.41.59.51 0 1.02-.2 1.41-.59l7.78-7.78 2.81-2.81c.8-.78.8-2.07 0-2.86zM5.41 20L4 18.59l7.72-7.72 1.47 1.35L5.41 20z\"/>\n",
              "  </svg>\n",
              "      </button>\n",
              "      \n",
              "  <style>\n",
              "    .colab-df-container {\n",
              "      display:flex;\n",
              "      flex-wrap:wrap;\n",
              "      gap: 12px;\n",
              "    }\n",
              "\n",
              "    .colab-df-convert {\n",
              "      background-color: #E8F0FE;\n",
              "      border: none;\n",
              "      border-radius: 50%;\n",
              "      cursor: pointer;\n",
              "      display: none;\n",
              "      fill: #1967D2;\n",
              "      height: 32px;\n",
              "      padding: 0 0 0 0;\n",
              "      width: 32px;\n",
              "    }\n",
              "\n",
              "    .colab-df-convert:hover {\n",
              "      background-color: #E2EBFA;\n",
              "      box-shadow: 0px 1px 2px rgba(60, 64, 67, 0.3), 0px 1px 3px 1px rgba(60, 64, 67, 0.15);\n",
              "      fill: #174EA6;\n",
              "    }\n",
              "\n",
              "    [theme=dark] .colab-df-convert {\n",
              "      background-color: #3B4455;\n",
              "      fill: #D2E3FC;\n",
              "    }\n",
              "\n",
              "    [theme=dark] .colab-df-convert:hover {\n",
              "      background-color: #434B5C;\n",
              "      box-shadow: 0px 1px 3px 1px rgba(0, 0, 0, 0.15);\n",
              "      filter: drop-shadow(0px 1px 2px rgba(0, 0, 0, 0.3));\n",
              "      fill: #FFFFFF;\n",
              "    }\n",
              "  </style>\n",
              "\n",
              "      <script>\n",
              "        const buttonEl =\n",
              "          document.querySelector('#df-ed22cfad-192a-47a0-bcee-3b50e9549db1 button.colab-df-convert');\n",
              "        buttonEl.style.display =\n",
              "          google.colab.kernel.accessAllowed ? 'block' : 'none';\n",
              "\n",
              "        async function convertToInteractive(key) {\n",
              "          const element = document.querySelector('#df-ed22cfad-192a-47a0-bcee-3b50e9549db1');\n",
              "          const dataTable =\n",
              "            await google.colab.kernel.invokeFunction('convertToInteractive',\n",
              "                                                     [key], {});\n",
              "          if (!dataTable) return;\n",
              "\n",
              "          const docLinkHtml = 'Like what you see? Visit the ' +\n",
              "            '<a target=\"_blank\" href=https://colab.research.google.com/notebooks/data_table.ipynb>data table notebook</a>'\n",
              "            + ' to learn more about interactive tables.';\n",
              "          element.innerHTML = '';\n",
              "          dataTable['output_type'] = 'display_data';\n",
              "          await google.colab.output.renderOutput(dataTable, element);\n",
              "          const docLink = document.createElement('div');\n",
              "          docLink.innerHTML = docLinkHtml;\n",
              "          element.appendChild(docLink);\n",
              "        }\n",
              "      </script>\n",
              "    </div>\n",
              "  </div>\n",
              "  "
            ]
          },
          "metadata": {},
          "execution_count": 44
        }
      ]
    },
    {
      "cell_type": "code",
      "execution_count": 45,
      "metadata": {
        "colab": {
          "base_uri": "https://localhost:8080/"
        },
        "id": "0wk76zOO0hg_",
        "outputId": "38934894-623b-485f-daa8-746490ebb3e9"
      },
      "outputs": [
        {
          "output_type": "execute_result",
          "data": {
            "text/plain": [
              "(244439, 244439, 244439)"
            ]
          },
          "metadata": {},
          "execution_count": 11
        },
        {
          "output_type": "execute_result",
          "data": {
            "text/plain": [
              "(244439, 244439, 244439)"
            ]
          },
          "metadata": {},
          "execution_count": 45
        }
      ],
      "source": [
        "len(all_words_list),len(sentence_id_list),len(tag_list)"
      ]
    },
    {
      "cell_type": "code",
      "execution_count": 46,
      "metadata": {
        "id": "XDW6XGdGuqbr"
      },
      "outputs": [],
      "source": [
        "import transformers\n",
        "\n",
        "MAX_LEN = 20\n",
        "TRAIN_BATCH_SIZE = 8\n",
        "VALID_BATCH_SIZE = 4\n",
        "EPOCHS = 2\n",
        "LEARNING_RATE = 6*1e-03\n",
        "MAX_GRAD_NORM = 10\n",
        "from transformers import AutoModel, AutoTokenizer\n",
        "\n",
        "tokenizer = AutoTokenizer.from_pretrained('ai4bharat/indic-bert')\n"
      ]
    },
    {
      "cell_type": "code",
      "execution_count": 47,
      "metadata": {
        "id": "MtYW5GAO5VDT"
      },
      "outputs": [],
      "source": [
        "from sklearn.metrics import accuracy_score\n",
        "import torch\n",
        "from torch.utils.data import Dataset, DataLoader\n"
      ]
    },
    {
      "cell_type": "code",
      "source": [
        ""
      ],
      "metadata": {
        "id": "TcXtTa7H5WwZ"
      },
      "execution_count": 47,
      "outputs": []
    },
    {
      "cell_type": "code",
      "execution_count": 48,
      "metadata": {
        "id": "tO5F5bU6uuDq"
      },
      "outputs": [],
      "source": [
        "# reference : https://colab.research.google.com/github/NielsRogge/Transformers-Tutorials/blob/master/BERT/Custom_Named_Entity_Recognition_with_BERT_only_first_wordpiece.ipynb\n",
        "\n",
        "class dataset(Dataset):\n",
        "    def __init__(self, dataframe, tokenizer, max_len):\n",
        "        self.len = len(dataframe)\n",
        "        self.data = dataframe\n",
        "        self.tokenizer = tokenizer\n",
        "        self.max_len = max_len\n",
        "\n",
        "    def __getitem__(self, index): \n",
        "        sentence = self.data.sentence[index].strip()\n",
        "        word_labels = self.data.word_labels[index].split(\",\") \n",
        "\n",
        "        encoding = self.tokenizer(sentence,\n",
        "                             \n",
        "                             return_offsets_mapping=True, \n",
        "                             padding='max_length', \n",
        "                             truncation=True, \n",
        "                             max_length=self.max_len)\n",
        "        \n",
        "        \n",
        "        labels = [labels_to_ids[label] for label in word_labels] \n",
        "        encoded_labels = labels\n",
        "        \n",
        "        i = 0\n",
        "        for idx, mapping in enumerate(encoding[\"offset_mapping\"]):\n",
        "            if mapping[0] == 0 and mapping[1] != 0:\n",
        "              i += 1\n",
        "\n",
        "        item = {key: torch.as_tensor(val) for key, val in encoding.items()}\n",
        "        item['labels'] = torch.as_tensor(labels[0])\n",
        "        \n",
        "        return item\n",
        "\n",
        "    def __len__(self):\n",
        "        return self.len"
      ]
    },
    {
      "cell_type": "code",
      "execution_count": 49,
      "metadata": {
        "colab": {
          "base_uri": "https://localhost:8080/"
        },
        "id": "n2eTV863YFmZ",
        "outputId": "ae7e57b1-ec4b-4361-c809-c82e68f5b773"
      },
      "outputs": [
        {
          "output_type": "stream",
          "name": "stdout",
          "text": [
            "FULL Dataset: (15156, 2)\n",
            "TRAIN Dataset: (12125, 2)\n",
            "FULL Dataset: (15156, 2)\n",
            "TRAIN Dataset: (12125, 2)\n"
          ]
        }
      ],
      "source": [
        "#reference : https://colab.research.google.com/github/NielsRogge/Transformers-Tutorials/blob/master/BERT/Custom_Named_Entity_Recognition_with_BERT_only_first_wordpiece.ipynb\n",
        "\n",
        "train_size = 0.8\n",
        "train_dataset = my_df.sample(frac=train_size,random_state=200)\n",
        "\n",
        "temp1 = my_df.drop(train_dataset.index).reset_index(drop=True)\n",
        "train_dataset = train_dataset.reset_index(drop=True)\n",
        "val_size = .5\n",
        "val_dataset = temp1\n",
        "\n",
        "#test_dataset = temp1.drop(val_dataset.index).reset_index(drop=True)\n",
        "val_dataset = val_dataset.reset_index(drop=True)\n",
        "\n",
        "\n",
        "print(\"FULL Dataset: {}\".format(my_df.shape))\n",
        "print(\"TRAIN Dataset: {}\".format(train_dataset.shape))\n",
        "#print(\"TEST Dataset: {}\".format(test_dataset.shape))\n",
        "\n",
        "training_set = dataset(train_dataset, tokenizer, MAX_LEN)\n",
        "validation_set = dataset(val_dataset, tokenizer, MAX_LEN)\n",
        "#testing_set = dataset(test_dataset, tokenizer, MAX_LEN)"
      ]
    },
    {
      "cell_type": "code",
      "execution_count": 50,
      "metadata": {
        "id": "sRX7N_Q6fmTT"
      },
      "outputs": [],
      "source": [
        "train_params = {'batch_size': TRAIN_BATCH_SIZE,\n",
        "                'shuffle': True,\n",
        "                'num_workers': 0\n",
        "                }\n",
        "\n",
        "test_params = {'batch_size': VALID_BATCH_SIZE,\n",
        "                'shuffle': True,\n",
        "                'num_workers': 0\n",
        "                }\n",
        "\n",
        "training_loader = DataLoader(training_set, **train_params)\n",
        "validation_loader = DataLoader(validation_set, **test_params)"
      ]
    },
    {
      "cell_type": "code",
      "execution_count": 51,
      "metadata": {
        "colab": {
          "base_uri": "https://localhost:8080/"
        },
        "id": "nyvzPPuXglMF",
        "outputId": "62421e4e-1588-4273-928e-eb6e38ba59f5"
      },
      "outputs": [
        {
          "output_type": "stream",
          "name": "stdout",
          "text": [
            "cuda\n",
            "cuda\n"
          ]
        }
      ],
      "source": [
        "from torch import cuda\n",
        "device = 'cuda' if cuda.is_available() else 'cpu'\n",
        "print(device)"
      ]
    },
    {
      "cell_type": "code",
      "execution_count": 52,
      "metadata": {
        "id": "KpGBjLPVmDot"
      },
      "outputs": [],
      "source": [
        "import torch\n",
        "import torch.nn as nn"
      ]
    },
    {
      "cell_type": "markdown",
      "metadata": {
        "id": "8qwsWnc5NR96"
      },
      "source": [
        ""
      ]
    },
    {
      "cell_type": "code",
      "execution_count": 53,
      "metadata": {
        "id": "rNiam7NNPxRq"
      },
      "outputs": [],
      "source": [
        "#mmc\n",
        "class clyas(nn.Module):\n",
        "  \n",
        "  def __init__(self,freeze_bert=False):\n",
        "     super(clyas, self).__init__()\n",
        "     self.auto =  AutoModel.from_pretrained('ai4bharat/indic-bert')\n",
        "     self.classifier =  nn.Sequential(nn.Linear(768, 150), nn.ReLU(),nn.Linear(150, 80),nn.ReLU(),nn.Dropout(0.15),nn.Linear(80, 45),nn.ReLU(),nn.Dropout(0.15),nn.Linear(45,13))\n",
        "     if freeze_bert:\n",
        "            for param in self.auto.parameters():\n",
        "                param.requires_grad = False\n",
        "  def forward(self,ids,mask):\n",
        "    output = self.auto(input_ids=ids,attention_mask=mask)\n",
        "    hidden_stat = output[0][:, 0, :]\n",
        "    \n",
        "    logits = self.classifier(hidden_stat)\n",
        "    return logits\n",
        "\n",
        "\n"
      ]
    },
    {
      "cell_type": "code",
      "execution_count": 54,
      "metadata": {
        "colab": {
          "base_uri": "https://localhost:8080/"
        },
        "id": "ypLK0n0N_-KN",
        "outputId": "79d9849c-fbd6-4364-ae13-8f198f466caf"
      },
      "outputs": [
        {
          "output_type": "stream",
          "name": "stderr",
          "text": [
            "Some weights of the model checkpoint at ai4bharat/indic-bert were not used when initializing AlbertModel: ['sop_classifier.classifier.weight', 'predictions.LayerNorm.bias', 'sop_classifier.classifier.bias', 'predictions.decoder.bias', 'predictions.decoder.weight', 'predictions.dense.bias', 'predictions.bias', 'predictions.dense.weight', 'predictions.LayerNorm.weight']\n",
            "- This IS expected if you are initializing AlbertModel from the checkpoint of a model trained on another task or with another architecture (e.g. initializing a BertForSequenceClassification model from a BertForPreTraining model).\n",
            "- This IS NOT expected if you are initializing AlbertModel from the checkpoint of a model that you expect to be exactly identical (initializing a BertForSequenceClassification model from a BertForSequenceClassification model).\n"
          ]
        },
        {
          "output_type": "execute_result",
          "data": {
            "text/plain": [
              "clyas(\n",
              "  (auto): AlbertModel(\n",
              "    (embeddings): AlbertEmbeddings(\n",
              "      (word_embeddings): Embedding(200000, 128, padding_idx=0)\n",
              "      (position_embeddings): Embedding(512, 128)\n",
              "      (token_type_embeddings): Embedding(2, 128)\n",
              "      (LayerNorm): LayerNorm((128,), eps=1e-12, elementwise_affine=True)\n",
              "      (dropout): Dropout(p=0, inplace=False)\n",
              "    )\n",
              "    (encoder): AlbertTransformer(\n",
              "      (embedding_hidden_mapping_in): Linear(in_features=128, out_features=768, bias=True)\n",
              "      (albert_layer_groups): ModuleList(\n",
              "        (0): AlbertLayerGroup(\n",
              "          (albert_layers): ModuleList(\n",
              "            (0): AlbertLayer(\n",
              "              (full_layer_layer_norm): LayerNorm((768,), eps=1e-12, elementwise_affine=True)\n",
              "              (attention): AlbertAttention(\n",
              "                (query): Linear(in_features=768, out_features=768, bias=True)\n",
              "                (key): Linear(in_features=768, out_features=768, bias=True)\n",
              "                (value): Linear(in_features=768, out_features=768, bias=True)\n",
              "                (attention_dropout): Dropout(p=0, inplace=False)\n",
              "                (output_dropout): Dropout(p=0, inplace=False)\n",
              "                (dense): Linear(in_features=768, out_features=768, bias=True)\n",
              "                (LayerNorm): LayerNorm((768,), eps=1e-12, elementwise_affine=True)\n",
              "              )\n",
              "              (ffn): Linear(in_features=768, out_features=3072, bias=True)\n",
              "              (ffn_output): Linear(in_features=3072, out_features=768, bias=True)\n",
              "              (activation): GELUActivation()\n",
              "              (dropout): Dropout(p=0, inplace=False)\n",
              "            )\n",
              "          )\n",
              "        )\n",
              "      )\n",
              "    )\n",
              "    (pooler): Linear(in_features=768, out_features=768, bias=True)\n",
              "    (pooler_activation): Tanh()\n",
              "  )\n",
              "  (classifier): Sequential(\n",
              "    (0): Linear(in_features=768, out_features=150, bias=True)\n",
              "    (1): ReLU()\n",
              "    (2): Linear(in_features=150, out_features=80, bias=True)\n",
              "    (3): ReLU()\n",
              "    (4): Dropout(p=0.15, inplace=False)\n",
              "    (5): Linear(in_features=80, out_features=45, bias=True)\n",
              "    (6): ReLU()\n",
              "    (7): Dropout(p=0.15, inplace=False)\n",
              "    (8): Linear(in_features=45, out_features=13, bias=True)\n",
              "  )\n",
              ")"
            ]
          },
          "metadata": {},
          "execution_count": 20
        },
        {
          "output_type": "stream",
          "name": "stderr",
          "text": [
            "Some weights of the model checkpoint at ai4bharat/indic-bert were not used when initializing AlbertModel: ['sop_classifier.classifier.weight', 'predictions.LayerNorm.bias', 'sop_classifier.classifier.bias', 'predictions.decoder.bias', 'predictions.decoder.weight', 'predictions.dense.bias', 'predictions.bias', 'predictions.dense.weight', 'predictions.LayerNorm.weight']\n",
            "- This IS expected if you are initializing AlbertModel from the checkpoint of a model trained on another task or with another architecture (e.g. initializing a BertForSequenceClassification model from a BertForPreTraining model).\n",
            "- This IS NOT expected if you are initializing AlbertModel from the checkpoint of a model that you expect to be exactly identical (initializing a BertForSequenceClassification model from a BertForSequenceClassification model).\n"
          ]
        },
        {
          "output_type": "execute_result",
          "data": {
            "text/plain": [
              "clyas(\n",
              "  (auto): AlbertModel(\n",
              "    (embeddings): AlbertEmbeddings(\n",
              "      (word_embeddings): Embedding(200000, 128, padding_idx=0)\n",
              "      (position_embeddings): Embedding(512, 128)\n",
              "      (token_type_embeddings): Embedding(2, 128)\n",
              "      (LayerNorm): LayerNorm((128,), eps=1e-12, elementwise_affine=True)\n",
              "      (dropout): Dropout(p=0, inplace=False)\n",
              "    )\n",
              "    (encoder): AlbertTransformer(\n",
              "      (embedding_hidden_mapping_in): Linear(in_features=128, out_features=768, bias=True)\n",
              "      (albert_layer_groups): ModuleList(\n",
              "        (0): AlbertLayerGroup(\n",
              "          (albert_layers): ModuleList(\n",
              "            (0): AlbertLayer(\n",
              "              (full_layer_layer_norm): LayerNorm((768,), eps=1e-12, elementwise_affine=True)\n",
              "              (attention): AlbertAttention(\n",
              "                (query): Linear(in_features=768, out_features=768, bias=True)\n",
              "                (key): Linear(in_features=768, out_features=768, bias=True)\n",
              "                (value): Linear(in_features=768, out_features=768, bias=True)\n",
              "                (attention_dropout): Dropout(p=0, inplace=False)\n",
              "                (output_dropout): Dropout(p=0, inplace=False)\n",
              "                (dense): Linear(in_features=768, out_features=768, bias=True)\n",
              "                (LayerNorm): LayerNorm((768,), eps=1e-12, elementwise_affine=True)\n",
              "              )\n",
              "              (ffn): Linear(in_features=768, out_features=3072, bias=True)\n",
              "              (ffn_output): Linear(in_features=3072, out_features=768, bias=True)\n",
              "              (activation): GELUActivation()\n",
              "              (dropout): Dropout(p=0, inplace=False)\n",
              "            )\n",
              "          )\n",
              "        )\n",
              "      )\n",
              "    )\n",
              "    (pooler): Linear(in_features=768, out_features=768, bias=True)\n",
              "    (pooler_activation): Tanh()\n",
              "  )\n",
              "  (classifier): Sequential(\n",
              "    (0): Linear(in_features=768, out_features=150, bias=True)\n",
              "    (1): ReLU()\n",
              "    (2): Linear(in_features=150, out_features=80, bias=True)\n",
              "    (3): ReLU()\n",
              "    (4): Dropout(p=0.15, inplace=False)\n",
              "    (5): Linear(in_features=80, out_features=45, bias=True)\n",
              "    (6): ReLU()\n",
              "    (7): Dropout(p=0.15, inplace=False)\n",
              "    (8): Linear(in_features=45, out_features=13, bias=True)\n",
              "  )\n",
              ")"
            ]
          },
          "metadata": {},
          "execution_count": 54
        }
      ],
      "source": [
        "loss_fn = nn.CrossEntropyLoss()\n",
        "bertt = clyas(True)\n",
        "bertt.to(device)"
      ]
    },
    {
      "cell_type": "code",
      "execution_count": 55,
      "metadata": {
        "id": "vaOStdoXsnNK"
      },
      "outputs": [],
      "source": [
        "#cvn\n",
        "def train(epochs):\n",
        "\n",
        "  tr_loss, tr_accuracy = 0, 0\n",
        "  nb_tr_examples, nb_tr_steps = 0, 0\n",
        "  tr_preds, tr_labels = [], []\n",
        "  \n",
        "  optimizer = torch.optim.Adam(params=bertt.parameters(), lr=LEARNING_RATE)\n",
        "  bertt.train()\n",
        "  for idx, batch in enumerate(training_loader):\n",
        "    ids = batch['input_ids'].to(device, dtype = torch.long)\n",
        "    mask = batch['attention_mask'].to(device, dtype = torch.long)\n",
        "    labels = batch['labels'].to(device, dtype = torch.long)\n",
        "    \n",
        "    logits = bertt(ids,mask)\n",
        "    loss = loss_fn(logits, labels)\n",
        "    tr_loss += loss.item()\n",
        "  \n",
        "    nb_tr_steps += 1\n",
        "    nb_tr_examples += labels.size(0)\n",
        "    \n",
        "    if idx % 100==0:\n",
        "        loss_step = tr_loss/nb_tr_steps\n",
        "        print(f\"Training loss per 100 training steps: {loss_step}\")\n",
        "\n",
        "    flattened_targets = labels.view(-1) # shape (batch_size * seq_len,)\n",
        "    active_logits = logits.view(-1,13) # shape (batch_size * seq_len, num_labels)\n",
        "    flattened_predictions = torch.argmax(active_logits, axis=1) # shape (batch_size * seq_len)\n",
        "\n",
        "    active_accuracy = labels.view(-1) != -100\n",
        "\n",
        "    labels = torch.masked_select(flattened_targets, active_accuracy)\n",
        "    predictions = torch.masked_select(flattened_predictions, active_accuracy)\n",
        "    tr_labels.extend(labels)\n",
        "    tr_preds.extend(predictions)\n",
        "\n",
        "    tmp_tr_accuracy = accuracy_score(labels.cpu().numpy(), predictions.cpu().numpy())\n",
        "    tr_accuracy += tmp_tr_accuracy\n",
        "  \n",
        "    torch.nn.utils.clip_grad_norm_(\n",
        "        parameters=bertt.parameters(), max_norm=MAX_GRAD_NORM\n",
        "    )\n",
        "        \n",
        "    optimizer.zero_grad()\n",
        "    loss.backward()\n",
        "    optimizer.step()\n",
        "  epoch_loss = tr_loss / nb_tr_steps\n",
        "  tr_accuracy= tr_accuracy / nb_tr_steps\n",
        "  print(f\"Training loss epoch: {epoch_loss}\")\n",
        "  print(f\"Training accuracy epoch: {tr_accuracy}\")"
      ]
    },
    {
      "cell_type": "code",
      "execution_count": 22,
      "metadata": {
        "colab": {
          "base_uri": "https://localhost:8080/"
        },
        "id": "pGDTfI0Xme02",
        "outputId": "68273d84-e98d-4282-82f5-c1702b0f3d79"
      },
      "outputs": [
        {
          "output_type": "stream",
          "name": "stdout",
          "text": [
            "Training epoch: 1\n",
            "Training loss per 100 training steps: 2.6049554347991943\n",
            "Training loss per 100 training steps: 0.9999953370061841\n",
            "Training loss per 100 training steps: 0.9289781994821124\n",
            "Training loss per 100 training steps: 0.8898188285034558\n",
            "Training loss per 100 training steps: 0.8891819855871789\n",
            "Training loss per 100 training steps: 0.8666575416669755\n",
            "Training loss per 100 training steps: 0.8672691439394645\n",
            "Training loss per 100 training steps: 0.8710645091017115\n",
            "Training loss per 100 training steps: 0.8741867672349705\n",
            "Training loss per 100 training steps: 0.8635485708821031\n",
            "Training loss per 100 training steps: 0.8574874138982443\n",
            "Training loss per 100 training steps: 0.8559043540650612\n",
            "Training loss per 100 training steps: 0.8470568511290762\n",
            "Training loss per 100 training steps: 0.8464484028117323\n",
            "Training loss per 100 training steps: 0.840956126833647\n",
            "Training loss per 100 training steps: 0.8373103885874797\n",
            "Training loss epoch: 0.8387181055031736\n",
            "Training accuracy epoch: 0.8108344327176781\n",
            "Training epoch: 2\n",
            "Training loss per 100 training steps: 1.1907191276550293\n",
            "Training loss per 100 training steps: 0.7841846461195757\n",
            "Training loss per 100 training steps: 0.7770380765496202\n",
            "Training loss per 100 training steps: 0.772486344128352\n",
            "Training loss per 100 training steps: 0.7780157744958811\n",
            "Training loss per 100 training steps: 0.7739818047382636\n",
            "Training loss per 100 training steps: 0.7904472085035185\n",
            "Training loss per 100 training steps: 0.8030830319444735\n",
            "Training loss per 100 training steps: 0.8020823242679964\n",
            "Training loss per 100 training steps: 0.8062957101372318\n",
            "Training loss per 100 training steps: 0.8020110534100265\n",
            "Training loss per 100 training steps: 0.8035859739328384\n",
            "Training loss per 100 training steps: 0.8020397040505989\n",
            "Training loss per 100 training steps: 0.801790966592918\n",
            "Training loss per 100 training steps: 0.8044386867760847\n",
            "Training loss per 100 training steps: 0.801527668845447\n",
            "Training loss epoch: 0.8039539199184852\n",
            "Training accuracy epoch: 0.8122031662269129\n",
            "Training epoch: 1\n",
            "Training loss per 100 training steps: 2.5810606479644775\n",
            "Training loss per 100 training steps: 1.0116695538900866\n",
            "Training loss per 100 training steps: 0.9247254936478624\n",
            "Training loss per 100 training steps: 0.9059165068886604\n",
            "Training loss per 100 training steps: 0.8715378264350784\n",
            "Training loss per 100 training steps: 0.873392273134695\n",
            "Training loss per 100 training steps: 0.877494739179504\n",
            "Training loss per 100 training steps: 0.8841606073198407\n",
            "Training loss per 100 training steps: 0.8724941859549649\n",
            "Training loss per 100 training steps: 0.8709777679033867\n",
            "Training loss per 100 training steps: 0.8640548480706258\n",
            "Training loss per 100 training steps: 0.8554163857495969\n",
            "Training loss per 100 training steps: 0.8507209622753252\n",
            "Training loss per 100 training steps: 0.8449069384161918\n",
            "Training loss per 100 training steps: 0.8432335565285458\n",
            "Training loss per 100 training steps: 0.8399818902667724\n",
            "Training loss epoch: 0.8405480394066166\n",
            "Training accuracy epoch: 0.810999340369393\n",
            "Training epoch: 2\n",
            "Training loss per 100 training steps: 1.3728970289230347\n",
            "Training loss per 100 training steps: 0.7801352946622537\n",
            "Training loss per 100 training steps: 0.7574888008150888\n"
          ]
        }
      ],
      "source": [
        "for epoch in range(EPOCHS):\n",
        "    print(f\"Training epoch: {epoch + 1}\")\n",
        "    train(epoch)"
      ]
    },
    {
      "cell_type": "code",
      "execution_count": 22,
      "metadata": {
        "id": "i9kBZZhfme_T"
      },
      "outputs": [],
      "source": [
        ""
      ]
    },
    {
      "cell_type": "code",
      "execution_count": 23,
      "metadata": {
        "id": "4VasxywcDlXu"
      },
      "outputs": [],
      "source": [
        "#cvn\n",
        "def evaluate(bertt,loader):\n",
        "   \n",
        "    # For each batch in our validation set...\n",
        "    tr_loss, tr_accuracy = 0, 0\n",
        "    nb_tr_examples, nb_tr_steps = 0, 0\n",
        "    tr_preds, tr_labels = [], []\n",
        "  \n",
        "    \n",
        "    bertt.eval()\n",
        "    with torch.no_grad():\n",
        "       for idx, batch in enumerate(validation_loader):\n",
        "             ids = batch['input_ids'].to(device, dtype = torch.long)\n",
        "             mask = batch['attention_mask'].to(device, dtype = torch.long)\n",
        "             labels = batch['labels'].to(device, dtype = torch.long)\n",
        "    \n",
        "             logits = bertt(ids,mask)\n",
        "             loss = loss_fn(logits, labels)\n",
        "             tr_loss += loss.item()\n",
        "  \n",
        "             nb_tr_steps += 1\n",
        "             nb_tr_examples += labels.size(0)\n",
        "    \n",
        "             if idx % 100==0:\n",
        "                loss_step = tr_loss/nb_tr_steps\n",
        "                print(f\"Training loss per 100 training steps: {loss_step}\")\n",
        "\n",
        "             flattened_targets = labels.view(-1) # shape (batch_size * seq_len,)\n",
        "             active_logits = logits.view(-1,13) # shape (batch_size * seq_len, num_labels)\n",
        "             flattened_predictions = torch.argmax(active_logits, axis=1) # shape (batch_size * seq_len)\n",
        "\n",
        "             active_accuracy = labels.view(-1) != -100\n",
        "\n",
        "             labels = torch.masked_select(flattened_targets, active_accuracy)\n",
        "             predictions = torch.masked_select(flattened_predictions, active_accuracy)\n",
        "          \n",
        "             tr_labels.extend(labels)\n",
        "             tr_preds.extend(predictions)\n",
        "            \n",
        "             tmp_eval_accuracy = accuracy_score(labels.cpu().numpy(), predictions.cpu().numpy())\n",
        "             tr_accuracy += tmp_eval_accuracy\n",
        "  \n",
        "    labels = [ids_to_labels[id.item()] for id in tr_labels]\n",
        "    predictions = [ids_to_labels[id.item()] for id in tr_preds]\n",
        "    \n",
        "    eval_loss = tr_loss / nb_tr_steps \n",
        "    eval_accuracy = tr_accuracy / nb_tr_steps \n",
        "    print(f\"Validation Loss: { eval_loss}\")\n",
        "    print(f\"Validation Accuracy: {eval_accuracy }\")\n",
        "\n",
        "    return labels, predictions"
      ]
    },
    {
      "cell_type": "markdown",
      "metadata": {
        "id": "2TpzfWtC1lS9"
      },
      "source": [
        "testing the model"
      ]
    },
    {
      "cell_type": "code",
      "execution_count": 24,
      "metadata": {
        "id": "zMV9Cp-67pAx"
      },
      "outputs": [],
      "source": [
        "#we need to make a dataframe consisting of words in column and corresponding sentence number to which the word belongs to and\n",
        "#also the corresponding tag of word\n",
        "import re\n",
        "sentence_id_list=list()\n",
        "all_words_list=list()\n",
        "tag_list=list()\n",
        "sentence_id=0\n",
        "with open('hi_dev.conll',encoding='utf8') as f:\n",
        "    for line in f:\n",
        "        \n",
        "        if line[0]=='#' or line[0]=='\\n':\n",
        "            if line[0]!='\\n':\n",
        "                sentence_id+=1\n",
        "            continue\n",
        "        else:\n",
        "            \n",
        "            element=line.split(' _ _ ')\n",
        "            all_words_list.append(element[0])\n",
        "            tag_list.append(re.sub('\\n','',element[1]))\n",
        "            sentence_id_list.append(sentence_id)\n",
        "        "
      ]
    },
    {
      "cell_type": "code",
      "execution_count": 25,
      "metadata": {
        "id": "tp_RJ-FR7pA1"
      },
      "outputs": [],
      "source": [
        "import pandas as pd\n",
        "my_df=pd.DataFrame(columns=['sentence_id','word','tag'])\n",
        "my_df['sentence_id']=sentence_id_list\n",
        "my_df['word']=all_words_list\n",
        "my_df['tag']=tag_list\n",
        "\n"
      ]
    },
    {
      "cell_type": "code",
      "execution_count": 26,
      "metadata": {
        "id": "DaSoqawr7pA2"
      },
      "outputs": [],
      "source": [
        "#grouping together words of same sentence\n",
        "my_df['sentence']=my_df.groupby(['sentence_id'])['word'].transform(lambda func: ' '.join(func))\n",
        "my_df['word_labels']=my_df.groupby(['sentence_id'])['tag'].transform(lambda func: ','.join(func))"
      ]
    },
    {
      "cell_type": "code",
      "execution_count": 27,
      "metadata": {
        "id": "zNrVglWY7pA2"
      },
      "outputs": [],
      "source": [
        "my_df = my_df.drop_duplicates(subset=['sentence_id'])"
      ]
    },
    {
      "cell_type": "code",
      "execution_count": 28,
      "metadata": {
        "id": "TtqeUQ0y7pA2"
      },
      "outputs": [],
      "source": [
        "\n",
        "my_df=my_df[['sentence','word_labels']].drop_duplicates().reset_index(drop=True)"
      ]
    },
    {
      "cell_type": "code",
      "source": [
        "my_df"
      ],
      "metadata": {
        "colab": {
          "base_uri": "https://localhost:8080/",
          "height": 424
        },
        "id": "o8y_Luep8I_9",
        "outputId": "38c17709-bf85-46fd-f3a0-6a93c010e449"
      },
      "execution_count": 29,
      "outputs": [
        {
          "output_type": "execute_result",
          "data": {
            "text/plain": [
              "                                              sentence  \\\n",
              "0    १४९२ में एक चार्टर के आधार पर, उसके पिता ने उस...   \n",
              "1    इस विश्वविद्यालय को ओडिशा के नॉलेज हब में से ए...   \n",
              "2    इस तरह का पहला बेड़ा, आर12 , १९४८ में सेवा में...   \n",
              "3    इस बिंदु पर, वायरल संजीन को अज्ञात तंत्र द्वार...   \n",
              "4    ग्वाटेमाला में, कमजोर तूफान ने अत्यधिक वर्षा क...   \n",
              "..                                                 ...   \n",
              "800  यह नए वाहनों, इस्तेमाल किए गए वाहनों और स्पेयर...   \n",
              "801  यह अपने प्रवक्ता के रूप में व्हूपी गोल्डबर्ग ह...   \n",
              "802  कभी-कभी नारियल के दूध की मिठास के आधार पर एक स...   \n",
              "803  बपतिस्मात्मक फ़ॉन्ट , जिसमें करूबों से तराशी ग...   \n",
              "804  अधिकांश सधन चक रिकॉर्डिंग में दो डिस्क लगती है...   \n",
              "\n",
              "                                           word_labels  \n",
              "0            O,O,O,O,O,O,O,O,O,O,O,B-LOC,O,O,O,O,O,O,O  \n",
              "1                        O,O,O,B-LOC,O,O,O,O,O,O,O,O,O  \n",
              "2                     O,O,O,O,O,B-PROD,O,O,O,O,O,O,O,O  \n",
              "3    O,O,O,O,B-PROD,O,O,O,O,O,O,O,O,O,O,O,O,O,O,O,O...  \n",
              "4                          B-LOC,O,O,O,O,O,O,O,O,O,O,O  \n",
              "..                                                 ...  \n",
              "800  O,O,O,O,O,O,O,O,O,O,O,O,O,O,B-CORP,I-CORP,O,O,...  \n",
              "801                  O,O,O,O,O,O,B-PER,I-PER,O,O,O,O,O  \n",
              "802    O,O,O,O,O,O,O,O,O,O,O,B-PROD,I-PROD,O,O,O,O,O,O  \n",
              "803  B-PROD,I-PROD,O,O,O,O,O,O,O,O,O,O,O,O,O,O,O,O,...  \n",
              "804                O,B-PROD,I-PROD,O,O,O,O,O,O,O,O,O,O  \n",
              "\n",
              "[805 rows x 2 columns]"
            ],
            "text/html": [
              "\n",
              "  <div id=\"df-d757f76c-6628-433e-8b1c-eaff2ad9e1bc\">\n",
              "    <div class=\"colab-df-container\">\n",
              "      <div>\n",
              "<style scoped>\n",
              "    .dataframe tbody tr th:only-of-type {\n",
              "        vertical-align: middle;\n",
              "    }\n",
              "\n",
              "    .dataframe tbody tr th {\n",
              "        vertical-align: top;\n",
              "    }\n",
              "\n",
              "    .dataframe thead th {\n",
              "        text-align: right;\n",
              "    }\n",
              "</style>\n",
              "<table border=\"1\" class=\"dataframe\">\n",
              "  <thead>\n",
              "    <tr style=\"text-align: right;\">\n",
              "      <th></th>\n",
              "      <th>sentence</th>\n",
              "      <th>word_labels</th>\n",
              "    </tr>\n",
              "  </thead>\n",
              "  <tbody>\n",
              "    <tr>\n",
              "      <th>0</th>\n",
              "      <td>१४९२ में एक चार्टर के आधार पर, उसके पिता ने उस...</td>\n",
              "      <td>O,O,O,O,O,O,O,O,O,O,O,B-LOC,O,O,O,O,O,O,O</td>\n",
              "    </tr>\n",
              "    <tr>\n",
              "      <th>1</th>\n",
              "      <td>इस विश्वविद्यालय को ओडिशा के नॉलेज हब में से ए...</td>\n",
              "      <td>O,O,O,B-LOC,O,O,O,O,O,O,O,O,O</td>\n",
              "    </tr>\n",
              "    <tr>\n",
              "      <th>2</th>\n",
              "      <td>इस तरह का पहला बेड़ा, आर12 , १९४८ में सेवा में...</td>\n",
              "      <td>O,O,O,O,O,B-PROD,O,O,O,O,O,O,O,O</td>\n",
              "    </tr>\n",
              "    <tr>\n",
              "      <th>3</th>\n",
              "      <td>इस बिंदु पर, वायरल संजीन को अज्ञात तंत्र द्वार...</td>\n",
              "      <td>O,O,O,O,B-PROD,O,O,O,O,O,O,O,O,O,O,O,O,O,O,O,O...</td>\n",
              "    </tr>\n",
              "    <tr>\n",
              "      <th>4</th>\n",
              "      <td>ग्वाटेमाला में, कमजोर तूफान ने अत्यधिक वर्षा क...</td>\n",
              "      <td>B-LOC,O,O,O,O,O,O,O,O,O,O,O</td>\n",
              "    </tr>\n",
              "    <tr>\n",
              "      <th>...</th>\n",
              "      <td>...</td>\n",
              "      <td>...</td>\n",
              "    </tr>\n",
              "    <tr>\n",
              "      <th>800</th>\n",
              "      <td>यह नए वाहनों, इस्तेमाल किए गए वाहनों और स्पेयर...</td>\n",
              "      <td>O,O,O,O,O,O,O,O,O,O,O,O,O,O,B-CORP,I-CORP,O,O,...</td>\n",
              "    </tr>\n",
              "    <tr>\n",
              "      <th>801</th>\n",
              "      <td>यह अपने प्रवक्ता के रूप में व्हूपी गोल्डबर्ग ह...</td>\n",
              "      <td>O,O,O,O,O,O,B-PER,I-PER,O,O,O,O,O</td>\n",
              "    </tr>\n",
              "    <tr>\n",
              "      <th>802</th>\n",
              "      <td>कभी-कभी नारियल के दूध की मिठास के आधार पर एक स...</td>\n",
              "      <td>O,O,O,O,O,O,O,O,O,O,O,B-PROD,I-PROD,O,O,O,O,O,O</td>\n",
              "    </tr>\n",
              "    <tr>\n",
              "      <th>803</th>\n",
              "      <td>बपतिस्मात्मक फ़ॉन्ट , जिसमें करूबों से तराशी ग...</td>\n",
              "      <td>B-PROD,I-PROD,O,O,O,O,O,O,O,O,O,O,O,O,O,O,O,O,...</td>\n",
              "    </tr>\n",
              "    <tr>\n",
              "      <th>804</th>\n",
              "      <td>अधिकांश सधन चक रिकॉर्डिंग में दो डिस्क लगती है...</td>\n",
              "      <td>O,B-PROD,I-PROD,O,O,O,O,O,O,O,O,O,O</td>\n",
              "    </tr>\n",
              "  </tbody>\n",
              "</table>\n",
              "<p>805 rows × 2 columns</p>\n",
              "</div>\n",
              "      <button class=\"colab-df-convert\" onclick=\"convertToInteractive('df-d757f76c-6628-433e-8b1c-eaff2ad9e1bc')\"\n",
              "              title=\"Convert this dataframe to an interactive table.\"\n",
              "              style=\"display:none;\">\n",
              "        \n",
              "  <svg xmlns=\"http://www.w3.org/2000/svg\" height=\"24px\"viewBox=\"0 0 24 24\"\n",
              "       width=\"24px\">\n",
              "    <path d=\"M0 0h24v24H0V0z\" fill=\"none\"/>\n",
              "    <path d=\"M18.56 5.44l.94 2.06.94-2.06 2.06-.94-2.06-.94-.94-2.06-.94 2.06-2.06.94zm-11 1L8.5 8.5l.94-2.06 2.06-.94-2.06-.94L8.5 2.5l-.94 2.06-2.06.94zm10 10l.94 2.06.94-2.06 2.06-.94-2.06-.94-.94-2.06-.94 2.06-2.06.94z\"/><path d=\"M17.41 7.96l-1.37-1.37c-.4-.4-.92-.59-1.43-.59-.52 0-1.04.2-1.43.59L10.3 9.45l-7.72 7.72c-.78.78-.78 2.05 0 2.83L4 21.41c.39.39.9.59 1.41.59.51 0 1.02-.2 1.41-.59l7.78-7.78 2.81-2.81c.8-.78.8-2.07 0-2.86zM5.41 20L4 18.59l7.72-7.72 1.47 1.35L5.41 20z\"/>\n",
              "  </svg>\n",
              "      </button>\n",
              "      \n",
              "  <style>\n",
              "    .colab-df-container {\n",
              "      display:flex;\n",
              "      flex-wrap:wrap;\n",
              "      gap: 12px;\n",
              "    }\n",
              "\n",
              "    .colab-df-convert {\n",
              "      background-color: #E8F0FE;\n",
              "      border: none;\n",
              "      border-radius: 50%;\n",
              "      cursor: pointer;\n",
              "      display: none;\n",
              "      fill: #1967D2;\n",
              "      height: 32px;\n",
              "      padding: 0 0 0 0;\n",
              "      width: 32px;\n",
              "    }\n",
              "\n",
              "    .colab-df-convert:hover {\n",
              "      background-color: #E2EBFA;\n",
              "      box-shadow: 0px 1px 2px rgba(60, 64, 67, 0.3), 0px 1px 3px 1px rgba(60, 64, 67, 0.15);\n",
              "      fill: #174EA6;\n",
              "    }\n",
              "\n",
              "    [theme=dark] .colab-df-convert {\n",
              "      background-color: #3B4455;\n",
              "      fill: #D2E3FC;\n",
              "    }\n",
              "\n",
              "    [theme=dark] .colab-df-convert:hover {\n",
              "      background-color: #434B5C;\n",
              "      box-shadow: 0px 1px 3px 1px rgba(0, 0, 0, 0.15);\n",
              "      filter: drop-shadow(0px 1px 2px rgba(0, 0, 0, 0.3));\n",
              "      fill: #FFFFFF;\n",
              "    }\n",
              "  </style>\n",
              "\n",
              "      <script>\n",
              "        const buttonEl =\n",
              "          document.querySelector('#df-d757f76c-6628-433e-8b1c-eaff2ad9e1bc button.colab-df-convert');\n",
              "        buttonEl.style.display =\n",
              "          google.colab.kernel.accessAllowed ? 'block' : 'none';\n",
              "\n",
              "        async function convertToInteractive(key) {\n",
              "          const element = document.querySelector('#df-d757f76c-6628-433e-8b1c-eaff2ad9e1bc');\n",
              "          const dataTable =\n",
              "            await google.colab.kernel.invokeFunction('convertToInteractive',\n",
              "                                                     [key], {});\n",
              "          if (!dataTable) return;\n",
              "\n",
              "          const docLinkHtml = 'Like what you see? Visit the ' +\n",
              "            '<a target=\"_blank\" href=https://colab.research.google.com/notebooks/data_table.ipynb>data table notebook</a>'\n",
              "            + ' to learn more about interactive tables.';\n",
              "          element.innerHTML = '';\n",
              "          dataTable['output_type'] = 'display_data';\n",
              "          await google.colab.output.renderOutput(dataTable, element);\n",
              "          const docLink = document.createElement('div');\n",
              "          docLink.innerHTML = docLinkHtml;\n",
              "          element.appendChild(docLink);\n",
              "        }\n",
              "      </script>\n",
              "    </div>\n",
              "  </div>\n",
              "  "
            ]
          },
          "metadata": {},
          "execution_count": 29
        }
      ]
    },
    {
      "cell_type": "code",
      "execution_count": 30,
      "metadata": {
        "id": "geENQmKt2O9s"
      },
      "outputs": [],
      "source": [
        "testing_set = dataset(my_df, tokenizer, MAX_LEN)"
      ]
    },
    {
      "cell_type": "code",
      "execution_count": 31,
      "metadata": {
        "id": "cMw1YSEv195s"
      },
      "outputs": [],
      "source": [
        "test_params = {'batch_size': TRAIN_BATCH_SIZE,\n",
        "                'shuffle': True,\n",
        "                'num_workers': 0\n",
        "                }\n",
        "\n",
        "\n",
        "testing_loader = DataLoader(testing_set, **test_params)"
      ]
    },
    {
      "cell_type": "code",
      "execution_count": 34,
      "metadata": {
        "colab": {
          "base_uri": "https://localhost:8080/"
        },
        "id": "uU7qmWb95_fM",
        "outputId": "4e5227a0-a0e7-496b-bf90-38e22adf8cc6"
      },
      "outputs": [
        {
          "output_type": "stream",
          "name": "stdout",
          "text": [
            "Training loss per 100 training steps: 1.068446397781372\n",
            "Training loss per 100 training steps: 0.7527007453217365\n",
            "Training loss per 100 training steps: 0.7416987362044367\n",
            "Training loss per 100 training steps: 0.7636324879636004\n",
            "Training loss per 100 training steps: 0.7637716709378354\n",
            "Training loss per 100 training steps: 0.7907609685273942\n",
            "Training loss per 100 training steps: 0.8045555023653138\n",
            "Training loss per 100 training steps: 0.7805257782913989\n",
            "Validation Loss: 0.7777464551394093\n",
            "Validation Accuracy: 0.818051890941073\n"
          ]
        }
      ],
      "source": [
        "x = evaluate(bertt,testing_loader)"
      ]
    },
    {
      "cell_type": "code",
      "execution_count": 35,
      "metadata": {
        "id": "rwfbroy94UdA",
        "colab": {
          "base_uri": "https://localhost:8080/"
        },
        "outputId": "5bf1dd76-0648-4f6c-c896-144b50c4c417"
      },
      "outputs": [
        {
          "output_type": "execute_result",
          "data": {
            "text/plain": [
              "0.12857402078958965"
            ]
          },
          "metadata": {},
          "execution_count": 35
        }
      ],
      "source": [
        "from sklearn.metrics import f1_score\n",
        "f1_score(x[0],x[1],average='macro')"
      ]
    },
    {
      "cell_type": "code",
      "source": [
        ""
      ],
      "metadata": {
        "id": "YHmHRF2G-MY_"
      },
      "execution_count": 35,
      "outputs": []
    }
  ],
  "metadata": {
    "colab": {
      "collapsed_sections": [],
      "name": "ques2.ipynb",
      "provenance": []
    },
    "kernelspec": {
      "display_name": "Python 3 (ipykernel)",
      "language": "python",
      "name": "python3"
    },
    "language_info": {
      "codemirror_mode": {
        "name": "ipython",
        "version": 3
      },
      "file_extension": ".py",
      "mimetype": "text/x-python",
      "name": "python",
      "nbconvert_exporter": "python",
      "pygments_lexer": "ipython3",
      "version": "3.10.2"
    },
    "accelerator": "GPU"
  },
  "nbformat": 4,
  "nbformat_minor": 0
}